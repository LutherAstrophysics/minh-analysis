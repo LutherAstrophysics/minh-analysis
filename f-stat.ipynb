{
 "cells": [
  {
   "cell_type": "code",
   "execution_count": 1,
   "id": "4ac5a29f",
   "metadata": {},
   "outputs": [],
   "source": [
    "from trout.stars import get_star \n",
    "from trout.nights.year_nights import get_nights_in_a_year\n",
    "from trout.nights import bad_nights\n",
    "\n",
    "import numpy as np\n",
    "import matplotlib.pyplot as plt"
   ]
  },
  {
   "cell_type": "markdown",
   "id": "3556f2f8",
   "metadata": {},
   "source": [
    "## Consecutive nights functions  "
   ]
  },
  {
   "cell_type": "code",
   "execution_count": 12,
   "id": "046ce56d",
   "metadata": {},
   "outputs": [],
   "source": [
    "def get_consecutive_nights(start_year,end_year): \n",
    "    list_of_consecutive_nights = []\n",
    "    bad_nights_date = [x[1] for x in bad_nights()] # Get the dates from the bad_nights() function \n",
    "    \n",
    "    for i in range(end_year-start_year+1): \n",
    "        yearly_nights = get_nights_in_a_year(start_year+i) # Get all the nights for a year\n",
    "        \n",
    "        for index in range(len(yearly_nights)-1): \n",
    "            if ((yearly_nights[index+1]-yearly_nights[index]).days == 1 # Consecutive nights only \n",
    "                and (yearly_nights[index] not in bad_nights_date) \n",
    "                and  (yearly_nights[index+1] not in bad_nights_date)): # Filter out any consecutive night that is bad \n",
    "                list_of_consecutive_nights.append([yearly_nights[index],yearly_nights[index+1]])\n",
    "                \n",
    "    return np.array(list_of_consecutive_nights)"
   ]
  },
  {
   "cell_type": "code",
   "execution_count": 3,
   "id": "00e1a150",
   "metadata": {},
   "outputs": [],
   "source": [
    "def signal_for_consecutive_dates(date_pair, star): # Return a list of two signals for a star for the pair of consecutive nights\n",
    "    date_1, date_2 = date_pair\n",
    "    star_data = get_star(star)\n",
    "    selected_data_1 = (star_data.select(f\"date = '{date_1}'\")).selected_data\n",
    "    selected_data_2 = (star_data.select(f\"date = '{date_2}'\")).selected_data\n",
    "    \n",
    "    if len(selected_data_1) != 0 and len(selected_data_2) != 0: # Only use signals if the star is present in BOTH nights\n",
    "        return [selected_data_1[0][1], selected_data_2[0][1]]"
   ]
  },
  {
   "cell_type": "code",
   "execution_count": 4,
   "id": "25320b33",
   "metadata": {},
   "outputs": [],
   "source": [
    "def consecutive_nights_differences(start_year, end_year, star): # Return a list of signal differences between all consecutive nights\n",
    "    nights = get_consecutive_nights(start_year, end_year)\n",
    "    night_differences = [signal_for_consecutive_dates(date_pair, star) for date_pair in nights]\n",
    "    night_differences = list(filter(lambda item: item is not None, night_differences)) # Filter out None values for absent nights\n",
    "    differences = np.diff(night_differences, axis = 1) # Take the difference between the two signals\n",
    "    \n",
    "    return differences[:,0]"
   ]
  },
  {
   "cell_type": "markdown",
   "id": "ffb37afe",
   "metadata": {},
   "source": [
    "## Long-term variance function "
   ]
  },
  {
   "cell_type": "code",
   "execution_count": 5,
   "id": "5586c2ae",
   "metadata": {},
   "outputs": [],
   "source": [
    "def get_long_term_variance(start_year, end_year, star): # Return the signal variance for all nights excluding bad nights for a star\n",
    "    stars = get_star(star).select(f\"date >= '{start_year}-01-01' and date < '{end_year+1}-01-01'\")\n",
    "    star_signal = stars.get_selected_data_column()\n",
    "    variance = np.var(star_signal)\n",
    "    return variance"
   ]
  },
  {
   "cell_type": "code",
   "execution_count": 32,
   "id": "48e49981",
   "metadata": {},
   "outputs": [
    {
     "data": {
      "text/plain": [
       "12399.876015821943"
      ]
     },
     "execution_count": 32,
     "metadata": {},
     "output_type": "execute_result"
    }
   ],
   "source": [
    "np.sqrt(get_long_term_variance(2019, 2019, 2))"
   ]
  },
  {
   "cell_type": "markdown",
   "id": "9a7d3bfc",
   "metadata": {},
   "source": [
    "## Short-term variance function "
   ]
  },
  {
   "cell_type": "code",
   "execution_count": 6,
   "id": "48be4ff7",
   "metadata": {},
   "outputs": [],
   "source": [
    "def get_short_term_variance(start_year, end_year, star): # Return the signal variance for all the consecutive nights differences for a star\n",
    "    differences = consecutive_nights_differences(start_year, end_year, star)\n",
    "    variance = np.var(differences)\n",
    "    return variance"
   ]
  },
  {
   "cell_type": "code",
   "execution_count": 22,
   "id": "5eb504c9",
   "metadata": {},
   "outputs": [
    {
     "data": {
      "text/plain": [
       "19151.517230885336"
      ]
     },
     "execution_count": 22,
     "metadata": {},
     "output_type": "execute_result"
    }
   ],
   "source": [
    "np.sqrt(get_short_term_variance(2020, 2020, 2))"
   ]
  },
  {
   "cell_type": "markdown",
   "id": "13eb9d20",
   "metadata": {},
   "source": [
    "## F-value function "
   ]
  },
  {
   "cell_type": "code",
   "execution_count": 7,
   "id": "ab1cf90c",
   "metadata": {},
   "outputs": [],
   "source": [
    "# Return the list of f values for stars\n",
    "# f value for a star is calculated as (long term variance) / (short term variance) for that star\n",
    "def f_value(start_year, end_year, from_star, to_star):\n",
    "    f_values = []\n",
    "    \n",
    "    for star_range in range(to_star - from_star + 1): \n",
    "        star_no = from_star + star_range\n",
    "        \n",
    "        if (get_star(star_no)).attendance(start_year, end_year) > 0.5: # Only use stars with more than 50% night attendance\n",
    "            long_term_variance = get_long_term_variance(start_year, end_year, star_no)\n",
    "            short_term_variance = get_short_term_variance(start_year, end_year, star_no)\n",
    "            f = long_term_variance/short_term_variance\n",
    "            f_values.append([f, star_no])\n",
    "            \n",
    "    return np.array(f_values)"
   ]
  },
  {
   "cell_type": "markdown",
   "id": "453b3320",
   "metadata": {},
   "source": [
    "## F-stat functions"
   ]
  },
  {
   "cell_type": "code",
   "execution_count": 8,
   "id": "032b427a",
   "metadata": {},
   "outputs": [],
   "source": [
    "# Return a list of f-stat values for stars\n",
    "# f stat values for a star is calculated as [(star's f value) - (average f value)] / (standard deviation from list of f values)\n",
    "# Also prints out stars with f-stats > 3.0 \n",
    "def f_stat(start_year, end_year, from_star, to_star): \n",
    "    f_stats = []\n",
    "    potential_LPV = []\n",
    "    f_keys = f_value(start_year, end_year, from_star, to_star)\n",
    "    f_values = f_keys[:,0]\n",
    "    mean = np.mean(f_values)\n",
    "    std = np.std(f_values)\n",
    "    \n",
    "    for index in f_keys: \n",
    "        f_star = index[0]\n",
    "        star = index[1] \n",
    "        f_stat = (f_star - mean)/std\n",
    "        f_stats.append(f_stat)\n",
    "        if f_stat > 3: \n",
    "            potential_LPV.append([star, f_stat])\n",
    "            \n",
    "    print(\"Here are the potential LPV with f-stat >= 4.75\", [x for x in potential_LPV if x[0]>=4.75])\n",
    "    print(\"Here are the potential LPV with f-stat 3 - 4.75\", [x for x in potential_LPV if x[0]<4.75 and x[0] > 3])\n",
    "    \n",
    "    return f_stats"
   ]
  },
  {
   "cell_type": "code",
   "execution_count": 16,
   "id": "9de85fa6",
   "metadata": {},
   "outputs": [],
   "source": [
    "def hist_plot(data, star_from, star_to): # Plot the histogram for the f-stat values\n",
    "    plt.figure(figsize=(4,3))\n",
    "    n, bins, patches = plt.hist(data, bins='auto', color='#0504aa',\n",
    "                            alpha=0.7)\n",
    "    plt.grid(axis='y', alpha=0.75)\n",
    "    plt.xlabel('F-Stat Value')\n",
    "    plt.ylabel('Count')\n",
    "    plt.title(f'F-Test for stars {star_from}-{star_to}')\n",
    "    plt.show()"
   ]
  },
  {
   "cell_type": "code",
   "execution_count": 19,
   "id": "0fc842ec",
   "metadata": {
    "scrolled": true
   },
   "outputs": [
    {
     "name": "stdout",
     "output_type": "stream",
     "text": [
      "Here are the potential LPV with f-stat >= 4.75 [[414.0, 5.459129044962576], [533.0, 7.519353815528936]]\n",
      "Here are the potential LPV with f-stat 3 - 4.75 []\n"
     ]
    }
   ],
   "source": [
    "data = f_stat(2012, 2016, 400, 573)"
   ]
  },
  {
   "cell_type": "code",
   "execution_count": 17,
   "id": "35a2fd12",
   "metadata": {
    "scrolled": true
   },
   "outputs": [
    {
     "name": "stdout",
     "output_type": "stream",
     "text": [
      "[-0.42463369 -0.32760302 -0.23057234 -0.13354167 -0.03651099  0.06051968\n",
      "  0.15755036  0.25458103  0.35161171  0.44864239  0.54567306  0.64270374\n",
      "  0.73973441  0.83676509  0.93379576  1.03082644  1.12785711  1.22488779\n",
      "  1.32191846  1.41894914  1.51597981  1.61301049  1.71004117  1.80707184\n",
      "  1.90410252  2.00113319  2.09816387  2.19519454  2.29222522  2.38925589\n",
      "  2.48628657  2.58331724  2.68034792  2.7773786   2.87440927  2.97143995\n",
      "  3.06847062  3.1655013   3.26253197  3.35956265  3.45659332  3.553624\n",
      "  3.65065467  3.74768535  3.84471602  3.9417467   4.03877738  4.13580805\n",
      "  4.23283873  4.3298694   4.42690008  4.52393075  4.62096143  4.7179921\n",
      "  4.81502278  4.91205345  5.00908413  5.10611481  5.20314548  5.30017616\n",
      "  5.39720683  5.49423751  5.59126818  5.68829886  5.78532953  5.88236021\n",
      "  5.97939088  6.07642156  6.17345223  6.27048291  6.36751359  6.46454426\n",
      "  6.56157494  6.65860561  6.75563629  6.85266696  6.94969764  7.04672831\n",
      "  7.14375899  7.24078966  7.33782034  7.43485102  7.53188169  7.62891237\n",
      "  7.72594304  7.82297372  7.92000439  8.01703507  8.11406574  8.21109642\n",
      "  8.30812709  8.40515777  8.50218844  8.59921912  8.6962498   8.79328047\n",
      "  8.89031115  8.98734182  9.0843725 ]\n"
     ]
    },
    {
     "data": {
      "image/png": "[encoded data removed]",
      "text/plain": [
       "<Figure size 400x300 with 1 Axes>"
      ]
     },
     "metadata": {},
     "output_type": "display_data"
    }
   ],
   "source": [
    "hist_plot(data, 400, 573)"
   ]
  },
  {
   "cell_type": "code",
   "execution_count": null,
   "id": "2e27516e",
   "metadata": {},
   "outputs": [],
   "source": []
  }
 ],
 "metadata": {
  "kernelspec": {
   "display_name": "Python 3 (ipykernel)",
   "language": "python",
   "name": "python3"
  },
  "language_info": {
   "codemirror_mode": {
    "name": "ipython",
    "version": 3
   },
   "file_extension": ".py",
   "mimetype": "text/x-python",
   "name": "python",
   "nbconvert_exporter": "python",
   "pygments_lexer": "ipython3",
   "version": "3.9.7"
  }
 },
 "nbformat": 4,
 "nbformat_minor": 5
}
